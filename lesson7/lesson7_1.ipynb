{
 "cells": [
  {
   "cell_type": "code",
   "execution_count": 13,
   "metadata": {},
   "outputs": [],
   "source": [
    "import psycopg2\n",
    "\n",
    "conn = psycopg2.connect(host='piRobert0301.local',database=\"mydatabase_a28\",user='a28',password='raspberry')"
   ]
  },
  {
   "cell_type": "code",
   "execution_count": 14,
   "metadata": {},
   "outputs": [
    {
     "name": "stdout",
     "output_type": "stream",
     "text": [
      "<connection object at 0x000001BD8AF22DF0; dsn: 'user=a28 password=xxx dbname=mydatabase_a28 host=piRobert0301.local', closed: 0>\n"
     ]
    }
   ],
   "source": [
    "print(conn)"
   ]
  },
  {
   "cell_type": "code",
   "execution_count": 15,
   "metadata": {},
   "outputs": [],
   "source": [
    "sql='''CREATE TABLE IF NOT EXISTS 市場(\n",
    " name VARCHAR(20),\n",
    " country varchar(20),\n",
    " primary key(name)\n",
    ");'''\n",
    "\n",
    "cursor=conn.cursor()\n",
    "cursor.execute(sql)\n",
    "\n",
    "sql1='''CREATE TABLE IF NOT EXISTS 股市(\n",
    " stock_id SERIAL,\n",
    " date DATE,\n",
    " open NUMERIC(17,10),\n",
    " high NUMERIC(17,10),\n",
    " low NUMERIC(17,10),\n",
    " close NUMERIC(17,10),\n",
    " adj_close NUMERIC(17,10),\n",
    " volume BIGINT DEFAULT 0,\n",
    " name VARCHAR(20),\n",
    " PRIMARY KEY(stock_id),\n",
    " FOREIGN KEY(name) REFERENCES 市場(name) \n",
    " ON DELETE NO ACTION\n",
    " ON UPDATE CASCADE\n",
    ");'''\n",
    "\n",
    "cursor.execute(sql1)\n",
    "conn.commit()\n",
    "\n",
    "cursor.close()\n",
    "conn.close()\n"
   ]
  }
 ],
 "metadata": {
  "kernelspec": {
   "display_name": "myenv",
   "language": "python",
   "name": "python3"
  },
  "language_info": {
   "codemirror_mode": {
    "name": "ipython",
    "version": 3
   },
   "file_extension": ".py",
   "mimetype": "text/x-python",
   "name": "python",
   "nbconvert_exporter": "python",
   "pygments_lexer": "ipython3",
   "version": "3.10.15"
  }
 },
 "nbformat": 4,
 "nbformat_minor": 2
}
